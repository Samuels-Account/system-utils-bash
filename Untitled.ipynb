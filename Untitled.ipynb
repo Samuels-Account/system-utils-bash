{
 "cells": [
  {
   "cell_type": "code",
   "execution_count": null,
   "id": "836a3c46-e17e-4258-8111-c6b5627705b9",
   "metadata": {},
   "outputs": [],
   "source": []
  }
 ],
 "metadata": {
  "kernelspec": {
   "display_name": "Bash",
   "language": "bash",
   "name": "bash"
  },
  "language_info": {
   "codemirror_mode": "shell",
   "file_extension": ".sh",
   "mimetype": "text/x-sh",
   "name": "bash"
  }
 },
 "nbformat": 4,
 "nbformat_minor": 5
}
